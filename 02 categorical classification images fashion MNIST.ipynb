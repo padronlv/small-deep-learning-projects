{
 "cells": [
  {
   "cell_type": "code",
   "execution_count": 1,
   "metadata": {},
   "outputs": [
    {
     "name": "stderr",
     "output_type": "stream",
     "text": [
      "C:\\Users\\VPL\\Anaconda3\\lib\\site-packages\\h5py\\__init__.py:36: FutureWarning: Conversion of the second argument of issubdtype from `float` to `np.floating` is deprecated. In future, it will be treated as `np.float64 == np.dtype(float).type`.\n",
      "  from ._conv import register_converters as _register_converters\n",
      "Using TensorFlow backend.\n"
     ]
    }
   ],
   "source": [
    "import keras"
   ]
  },
  {
   "cell_type": "code",
   "execution_count": 2,
   "metadata": {},
   "outputs": [
    {
     "name": "stdout",
     "output_type": "stream",
     "text": [
      "2.2.2\n"
     ]
    }
   ],
   "source": [
    "print(keras.__version__)"
   ]
  },
  {
   "cell_type": "code",
   "execution_count": 3,
   "metadata": {},
   "outputs": [],
   "source": [
    "from keras.datasets import fashion_mnist\n",
    "from keras import models, layers"
   ]
  },
  {
   "cell_type": "code",
   "execution_count": 4,
   "metadata": {},
   "outputs": [],
   "source": [
    "(train_images, train_labels), (test_images, test_labels) = fashion_mnist.load_data()"
   ]
  },
  {
   "cell_type": "code",
   "execution_count": 5,
   "metadata": {},
   "outputs": [
    {
     "name": "stdout",
     "output_type": "stream",
     "text": [
      "_________________________________________________________________\n",
      "Layer (type)                 Output Shape              Param #   \n",
      "=================================================================\n",
      "dense_1 (Dense)              (None, 512)               401920    \n",
      "_________________________________________________________________\n",
      "dense_2 (Dense)              (None, 10)                5130      \n",
      "=================================================================\n",
      "Total params: 407,050\n",
      "Trainable params: 407,050\n",
      "Non-trainable params: 0\n",
      "_________________________________________________________________\n"
     ]
    }
   ],
   "source": [
    "model = models.Sequential()\n",
    "model.add(layers.Dense(\n",
    "    512, \n",
    "    activation=\"relu\",\n",
    "    input_shape=(28 * 28,)\n",
    "))\n",
    "model.add(layers.Dense(\n",
    "    10,\n",
    "    activation=\"softmax\"\n",
    "))\n",
    "model.summary()\n",
    "\n",
    "model.compile(\n",
    "    optimizer=\"rmsprop\",\n",
    "    loss=\"categorical_crossentropy\",\n",
    "    metrics=[\"accuracy\"]\n",
    ")"
   ]
  },
  {
   "cell_type": "code",
   "execution_count": 6,
   "metadata": {},
   "outputs": [
    {
     "name": "stdout",
     "output_type": "stream",
     "text": [
      "Train (60000, 28, 28)\n",
      "Test: (10000, 28, 28)\n"
     ]
    },
    {
     "data": {
      "text/plain": [
       "<matplotlib.figure.Figure at 0x15f88387e80>"
      ]
     },
     "metadata": {},
     "output_type": "display_data"
    },
    {
     "name": "stdout",
     "output_type": "stream",
     "text": [
      "Before 9\n",
      "After [0. 0. 0. 0. 0. 0. 0. 0. 0. 1.]\n"
     ]
    }
   ],
   "source": [
    "import matplotlib.pyplot as plt\n",
    "\n",
    "\n",
    "\n",
    "#first number is the number of shamples\n",
    "#followed by dimensionality\n",
    "print('Train', train_images.shape)\n",
    "print('Test:', test_images.shape)\n",
    "\n",
    "#print one of my images\n",
    "#matplot... apply a color map, to change it, we use cmap.\n",
    "plt.imshow(train_images[0], cmap='gray')\n",
    "plt.title(str(train_labels[0]))\n",
    "plt.show()\n",
    "\n",
    "\n",
    "\n",
    "train_images = train_images.reshape((60000, 28 * 28))\n",
    "train_images = train_images.astype(\"float32\") / 255.0\n",
    "\n",
    "test_images = test_images.reshape((10000, 28 * 28 ))\n",
    "test_images = test_images.astype('float32') / 255.0\n",
    "from keras.utils import to_categorical\n",
    "\n",
    "print('Before', train_labels[0])\n",
    "train_labels = to_categorical(train_labels)\n",
    "test_labels = to_categorical(test_labels)\n",
    "print('After', train_labels[0])"
   ]
  },
  {
   "cell_type": "code",
   "execution_count": 7,
   "metadata": {},
   "outputs": [
    {
     "name": "stdout",
     "output_type": "stream",
     "text": [
      "60000/60000 [==============================] - 9s 145us/step\n"
     ]
    },
    {
     "data": {
      "text/plain": [
       "[2.3509296089172365, 0.17551666666666665]"
      ]
     },
     "execution_count": 7,
     "metadata": {},
     "output_type": "execute_result"
    }
   ],
   "source": [
    "#numbers weight and bias al principio are random\n",
    "model.evaluate(train_images, train_labels)"
   ]
  },
  {
   "cell_type": "code",
   "execution_count": 8,
   "metadata": {},
   "outputs": [],
   "source": [
    "#import numpy as np\n",
    "#print(np.max(model.predict(train_images[0:1])))\n",
    "#print(np.argmax(model.predict(train_images[0:1])))\n",
    "#print(train_labels[0])"
   ]
  },
  {
   "cell_type": "code",
   "execution_count": 9,
   "metadata": {},
   "outputs": [
    {
     "name": "stdout",
     "output_type": "stream",
     "text": [
      "Epoch 1/50\n",
      "60000/60000 [==============================] - 12s 208us/step - loss: 0.5611 - acc: 0.8015\n",
      "Epoch 2/50\n",
      "60000/60000 [==============================] - 16s 259us/step - loss: 0.3810 - acc: 0.8597\n",
      "Epoch 3/50\n",
      "60000/60000 [==============================] - 18s 303us/step - loss: 0.3367 - acc: 0.8756\n",
      "Epoch 4/50\n",
      "60000/60000 [==============================] - 16s 266us/step - loss: 0.3101 - acc: 0.88430s - loss: 0.3100 - acc: 0.88\n",
      "Epoch 5/50\n",
      "60000/60000 [==============================] - 13s 219us/step - loss: 0.2915 - acc: 0.8924\n",
      "Epoch 6/50\n",
      "60000/60000 [==============================] - 16s 271us/step - loss: 0.2767 - acc: 0.89782s \n",
      "Epoch 7/50\n",
      "60000/60000 [==============================] - 14s 233us/step - loss: 0.2639 - acc: 0.9019\n",
      "Epoch 8/50\n",
      "60000/60000 [==============================] - 14s 232us/step - loss: 0.2534 - acc: 0.9070\n",
      "Epoch 9/50\n",
      "60000/60000 [==============================] - 13s 223us/step - loss: 0.2426 - acc: 0.9102\n",
      "Epoch 10/50\n",
      "60000/60000 [==============================] - 12s 194us/step - loss: 0.2337 - acc: 0.9134\n",
      "Epoch 11/50\n",
      "60000/60000 [==============================] - 13s 215us/step - loss: 0.2230 - acc: 0.91733s - loss: 0.2228 - acc: 0.91 - ETA: 3s - loss: 0.2235 - acc: 0.9 - ETA: 3s - loss:  - ETA: 2s - loss: 0.2237 - acc: 0.9 - ETA: 2s - los - ETA: 0s - loss: 0.2227 - a\n",
      "Epoch 12/50\n",
      "60000/60000 [==============================] - 12s 202us/step - loss: 0.2182 - acc: 0.9188\n",
      "Epoch 13/50\n",
      "60000/60000 [==============================] - 11s 185us/step - loss: 0.2102 - acc: 0.9221\n",
      "Epoch 14/50\n",
      "60000/60000 [==============================] - 12s 201us/step - loss: 0.2043 - acc: 0.92424s - lo\n",
      "Epoch 15/50\n",
      "60000/60000 [==============================] - 11s 185us/step - loss: 0.2000 - acc: 0.9268\n",
      "Epoch 16/50\n",
      "60000/60000 [==============================] - 12s 197us/step - loss: 0.1917 - acc: 0.9288\n",
      "Epoch 17/50\n",
      "60000/60000 [==============================] - 13s 217us/step - loss: 0.1863 - acc: 0.9308\n",
      "Epoch 18/50\n",
      "60000/60000 [==============================] - 14s 240us/step - loss: 0.1805 - acc: 0.9327\n",
      "Epoch 19/50\n",
      "60000/60000 [==============================] - 15s 255us/step - loss: 0.1764 - acc: 0.9348\n",
      "Epoch 20/50\n",
      "60000/60000 [==============================] - 12s 208us/step - loss: 0.1709 - acc: 0.9365\n",
      "Epoch 21/50\n",
      "60000/60000 [==============================] - 14s 227us/step - loss: 0.1682 - acc: 0.9386\n",
      "Epoch 22/50\n",
      "60000/60000 [==============================] - 14s 236us/step - loss: 0.1642 - acc: 0.9400\n",
      "Epoch 23/50\n",
      "60000/60000 [==============================] - 16s 259us/step - loss: 0.1562 - acc: 0.9420\n",
      "Epoch 24/50\n",
      "60000/60000 [==============================] - 15s 247us/step - loss: 0.1577 - acc: 0.9418\n",
      "Epoch 25/50\n",
      "60000/60000 [==============================] - 14s 239us/step - loss: 0.1503 - acc: 0.9448\n",
      "Epoch 26/50\n",
      "60000/60000 [==============================] - 14s 226us/step - loss: 0.1486 - acc: 0.9459\n",
      "Epoch 27/50\n",
      "60000/60000 [==============================] - 15s 246us/step - loss: 0.1439 - acc: 0.9477\n",
      "Epoch 28/50\n",
      "60000/60000 [==============================] - 15s 258us/step - loss: 0.1403 - acc: 0.9487\n",
      "Epoch 29/50\n",
      "60000/60000 [==============================] - 16s 268us/step - loss: 0.1397 - acc: 0.9497\n",
      "Epoch 30/50\n",
      "60000/60000 [==============================] - 14s 225us/step - loss: 0.1357 - acc: 0.9502\n",
      "Epoch 31/50\n",
      "60000/60000 [==============================] - 14s 238us/step - loss: 0.1318 - acc: 0.9523\n",
      "Epoch 32/50\n",
      "60000/60000 [==============================] - 16s 265us/step - loss: 0.1313 - acc: 0.9516\n",
      "Epoch 33/50\n",
      "60000/60000 [==============================] - 14s 240us/step - loss: 0.1289 - acc: 0.9544\n",
      "Epoch 34/50\n",
      "60000/60000 [==============================] - 15s 249us/step - loss: 0.1240 - acc: 0.9561ETA\n",
      "Epoch 35/50\n",
      "60000/60000 [==============================] - 14s 235us/step - loss: 0.1220 - acc: 0.9557\n",
      "Epoch 36/50\n",
      "60000/60000 [==============================] - 15s 252us/step - loss: 0.1202 - acc: 0.95722\n",
      "Epoch 37/50\n",
      "60000/60000 [==============================] - 16s 274us/step - loss: 0.1184 - acc: 0.9581\n",
      "Epoch 38/50\n",
      "60000/60000 [==============================] - 16s 268us/step - loss: 0.1150 - acc: 0.9587\n",
      "Epoch 39/50\n",
      "60000/60000 [==============================] - 14s 226us/step - loss: 0.1119 - acc: 0.9595\n",
      "Epoch 40/50\n",
      "60000/60000 [==============================] - 15s 243us/step - loss: 0.1127 - acc: 0.9603\n",
      "Epoch 41/50\n",
      "60000/60000 [==============================] - 15s 244us/step - loss: 0.1078 - acc: 0.96170s - loss: 0.1079 - acc: 0.96\n",
      "Epoch 42/50\n",
      "60000/60000 [==============================] - 13s 216us/step - loss: 0.1057 - acc: 0.9631\n",
      "Epoch 43/50\n",
      "60000/60000 [==============================] - 15s 250us/step - loss: 0.1062 - acc: 0.9628\n",
      "Epoch 44/50\n",
      "60000/60000 [==============================] - 13s 222us/step - loss: 0.1085 - acc: 0.9623\n",
      "Epoch 45/50\n",
      "60000/60000 [==============================] - 15s 243us/step - loss: 0.1047 - acc: 0.9637\n",
      "Epoch 46/50\n",
      "60000/60000 [==============================] - 14s 240us/step - loss: 0.1003 - acc: 0.9647\n",
      "Epoch 47/50\n",
      "60000/60000 [==============================] - 13s 219us/step - loss: 0.1011 - acc: 0.9649\n",
      "Epoch 48/50\n",
      "60000/60000 [==============================] - 14s 240us/step - loss: 0.0953 - acc: 0.9667\n",
      "Epoch 49/50\n",
      "60000/60000 [==============================] - 15s 246us/step - loss: 0.0944 - acc: 0.9667\n",
      "Epoch 50/50\n",
      "60000/60000 [==============================] - 14s 233us/step - loss: 0.0925 - acc: 0.9675\n"
     ]
    }
   ],
   "source": [
    "history = model.fit(\n",
    "    train_images, train_labels,\n",
    "    epochs=50,\n",
    "    batch_size=128)"
   ]
  },
  {
   "cell_type": "code",
   "execution_count": 10,
   "metadata": {},
   "outputs": [
    {
     "name": "stdout",
     "output_type": "stream",
     "text": [
      "{'loss': [0.5610916415214539, 0.38101986298561097, 0.3366509666601817, 0.3100733162879944, 0.2915204461892446, 0.27671759507656096, 0.26392378925482435, 0.2534325129588445, 0.24264582811991373, 0.23370350488821665, 0.2230325310230255, 0.21818155131340028, 0.21017408492565154, 0.20426886240641276, 0.2000188176949819, 0.19169548154274624, 0.1862979867776235, 0.18049955740769705, 0.1763891712665558, 0.17090400706132253, 0.1682315852165222, 0.16423110750516257, 0.15623131978511812, 0.15772179368336994, 0.1502627189397812, 0.14860639001131057, 0.14394219329754512, 0.14033347942034405, 0.1397251762708028, 0.13569609684944153, 0.13176975872913996, 0.13132285960117976, 0.1289080155849457, 0.12404720856746038, 0.12204803977807363, 0.12024769272208213, 0.11838779744505883, 0.11501689530213674, 0.11190631375114123, 0.11267475018501281, 0.1077869745572408, 0.10568396693666776, 0.1062170375486215, 0.1085017935236295, 0.10465989587207636, 0.10026297815541427, 0.10111676947772504, 0.09532498261729876, 0.09436037645339966, 0.09249141536951065], 'acc': [0.8014666666348775, 0.8597166666984558, 0.8756166666666667, 0.8843166666348775, 0.89245, 0.8977833333333334, 0.9019333333333334, 0.9070166666348776, 0.9102166666666667, 0.9134333333333333, 0.9172833333651225, 0.9188499999682108, 0.9220999999682109, 0.9242, 0.9268333333333333, 0.9288499999682108, 0.9308000000317892, 0.9326999999682108, 0.9347833333651224, 0.9365166666984558, 0.93865, 0.9399666666666666, 0.9419833333651225, 0.9417833333015442, 0.9447999999682108, 0.9459499999682108, 0.9477000000317891, 0.9486833333651224, 0.9497333333651224, 0.9502, 0.9523000000317892, 0.9515833333333333, 0.9543666666348776, 0.9560833333651225, 0.9557166666984558, 0.9572166666666667, 0.9581, 0.95865, 0.9595499999682109, 0.9603333333015441, 0.9617, 0.9631166666666666, 0.9628166666348775, 0.9622833333333334, 0.96375, 0.9646833333333333, 0.9648833333015442, 0.9667166666666667, 0.9667499999682109, 0.9675333333651225]}\n"
     ]
    },
    {
     "data": {
      "image/png": "[encoded data removed]",
      "text/plain": [
       "<matplotlib.figure.Figure at 0x15f854baf60>"
      ]
     },
     "metadata": {},
     "output_type": "display_data"
    },
    {
     "data": {
      "image/png": "[encoded data removed]",
      "text/plain": [
       "<matplotlib.figure.Figure at 0x15f854ba630>"
      ]
     },
     "metadata": {},
     "output_type": "display_data"
    }
   ],
   "source": [
    "print(history.history)\n",
    "plt.plot(history.history[\"loss\"], label='loss')\n",
    "plt.legend()\n",
    "plt.show()\n",
    "plt.close()\n",
    "\n",
    "plt.plot(history.history[\"acc\"], label='acc')\n",
    "plt.legend()\n",
    "plt.show()\n",
    "plt.close()"
   ]
  },
  {
   "cell_type": "code",
   "execution_count": 11,
   "metadata": {},
   "outputs": [
    {
     "name": "stdout",
     "output_type": "stream",
     "text": [
      "60000/60000 [==============================] - 10s 163us/step\n",
      "0.10514804394656482 0.9640166666666666\n"
     ]
    }
   ],
   "source": [
    "test_loss, test_acc = model.evaluate(train_images, train_labels)\n",
    "print(test_loss, test_acc)"
   ]
  },
  {
   "cell_type": "code",
   "execution_count": null,
   "metadata": {},
   "outputs": [],
   "source": []
  },
  {
   "cell_type": "code",
   "execution_count": null,
   "metadata": {},
   "outputs": [],
   "source": []
  },
  {
   "cell_type": "code",
   "execution_count": null,
   "metadata": {
    "scrolled": true
   },
   "outputs": [],
   "source": []
  }
 ],
 "metadata": {
  "kernelspec": {
   "display_name": "Python 3",
   "language": "python",
   "name": "python3"
  },
  "language_info": {
   "codemirror_mode": {
    "name": "ipython",
    "version": 3
   },
   "file_extension": ".py",
   "mimetype": "text/x-python",
   "name": "python",
   "nbconvert_exporter": "python",
   "pygments_lexer": "ipython3",
   "version": "3.6.4"
  }
 },
 "nbformat": 4,
 "nbformat_minor": 2
}
